{
  "nbformat": 4,
  "nbformat_minor": 0,
  "metadata": {
    "colab": {
      "name": "[BI-000] TM/TE CN start level distribution.ipynb",
      "provenance": [],
      "include_colab_link": true
    },
    "kernelspec": {
      "name": "python3",
      "display_name": "Python 3"
    },
    "language_info": {
      "name": "python"
    }
  },
  "cells": [
    {
      "cell_type": "markdown",
      "metadata": {
        "id": "view-in-github",
        "colab_type": "text"
      },
      "source": [
        "<a href=\"https://colab.research.google.com/github/kheedogg/AIR/blob/main/%5BBI-000%5D%20TM%20TE%20CN%20start%20level%20distribution.ipynb\" target=\"_parent\"><img src=\"https://colab.research.google.com/assets/colab-badge.svg\" alt=\"Open In Colab\"/></a>"
      ]
    },
    {
      "cell_type": "markdown",
      "source": [
        "https://todomath.atlassian.net/browse/BI-163\n",
        "\n",
        "**Request background and purpose**\n",
        "\n",
        "\"7세 이상 어린이 전용\"에 대한 영향력 확인\n",
        "\n",
        "**Details**\n",
        "\n",
        "다음 기간의 토도수학/토도영어 신규 사용자 레벨 분포 데이터\n",
        "\n",
        "- 2021.09.01-2021.10.30\n",
        "\n",
        "- 2022.05.01-2022.06.15"
      ],
      "metadata": {
        "id": "RFSdMnhDnp4o"
      }
    },
    {
      "cell_type": "code",
      "execution_count": null,
      "metadata": {
        "colab": {
          "base_uri": "https://localhost:8080/"
        },
        "id": "3q5RtueonnXz",
        "outputId": "9a31f109-bd70-4d65-e211-90ee23599414"
      },
      "outputs": [
        {
          "output_type": "stream",
          "name": "stdout",
          "text": [
            "Looking in indexes: https://pypi.org/simple, https://us-python.pkg.dev/colab-wheels/public/simple/\n",
            "Collecting databricks-sql-connector\n",
            "  Downloading databricks_sql_connector-2.0.2-py3-none-any.whl (196 kB)\n",
            "\u001b[K     |████████████████████████████████| 196 kB 4.9 MB/s \n",
            "\u001b[?25hRequirement already satisfied: pyarrow>=5.0.0 in /usr/local/lib/python3.7/dist-packages (from databricks-sql-connector) (6.0.1)\n",
            "Collecting thrift>=0.13.0\n",
            "  Downloading thrift-0.16.0.tar.gz (59 kB)\n",
            "\u001b[K     |████████████████████████████████| 59 kB 4.6 MB/s \n",
            "\u001b[?25hRequirement already satisfied: pandas>=1.3.0 in /usr/local/lib/python3.7/dist-packages (from databricks-sql-connector) (1.3.5)\n",
            "Requirement already satisfied: pytz>=2017.3 in /usr/local/lib/python3.7/dist-packages (from pandas>=1.3.0->databricks-sql-connector) (2022.1)\n",
            "Requirement already satisfied: numpy>=1.17.3 in /usr/local/lib/python3.7/dist-packages (from pandas>=1.3.0->databricks-sql-connector) (1.21.6)\n",
            "Requirement already satisfied: python-dateutil>=2.7.3 in /usr/local/lib/python3.7/dist-packages (from pandas>=1.3.0->databricks-sql-connector) (2.8.2)\n",
            "Requirement already satisfied: six>=1.5 in /usr/local/lib/python3.7/dist-packages (from python-dateutil>=2.7.3->pandas>=1.3.0->databricks-sql-connector) (1.15.0)\n",
            "Building wheels for collected packages: thrift\n",
            "  Building wheel for thrift (setup.py) ... \u001b[?25l\u001b[?25hdone\n",
            "  Created wheel for thrift: filename=thrift-0.16.0-cp37-cp37m-linux_x86_64.whl size=348309 sha256=f34e92ec062601f285441f390e4f6eb13b918e476e05accd134fdb04ca9b82d1\n",
            "  Stored in directory: /root/.cache/pip/wheels/e6/d0/8c/11a1840ef59493f9221d13748a29482323f13f6da6b236c3de\n",
            "Successfully built thrift\n",
            "Installing collected packages: thrift, databricks-sql-connector\n",
            "Successfully installed databricks-sql-connector-2.0.2 thrift-0.16.0\n"
          ]
        }
      ],
      "source": [
        "!pip install pyathena==2.5.4 > /dev/null\n",
        "!pip install databricks-sql-connector"
      ]
    },
    {
      "cell_type": "code",
      "source": [
        "from pydrive.auth import GoogleAuth\n",
        "from pydrive.drive import GoogleDrive\n",
        "from google.colab import auth\n",
        "from oauth2client.client import GoogleCredentials\n",
        "\n",
        "# Authenticate and create the PyDrive client.\n",
        "# This only needs to be done once per notebook.\n",
        "auth.authenticate_user()\n",
        "gauth = GoogleAuth()\n",
        "gauth.credentials = GoogleCredentials.get_application_default()\n",
        "drive = GoogleDrive(gauth)"
      ],
      "metadata": {
        "id": "WCv472H7J37h"
      },
      "execution_count": null,
      "outputs": []
    },
    {
      "cell_type": "code",
      "source": [
        "import json\n",
        "\n",
        "# download the aws file\n",
        "key_file = drive.CreateFile({'id': '1Ioo4QebP5Kh1oEv2YbTej_MIpFA-SS_k'})\n",
        "aws_access = json.loads(key_file.GetContentString())\n",
        "\n",
        "# download the databrikcs file\n",
        "key_file = drive.CreateFile({'id': '1MBD10AumpNtuqtzVDo9LJq4vj6898x0q'})\n",
        "databricks_access = json.loads(key_file.GetContentString())"
      ],
      "metadata": {
        "id": "tAZ0MMhHn6x9"
      },
      "execution_count": null,
      "outputs": []
    },
    {
      "cell_type": "code",
      "source": [
        "# create athena connection\n",
        "from pyathena import connect\n",
        "from pyathena.pandas.cursor import PandasCursor\n",
        "\n",
        "athena = connect(\n",
        "    aws_access_key_id = aws_access['aws_access_key_id'],\n",
        "    aws_secret_access_key = aws_access['aws_secret_access_key'],\n",
        "    s3_staging_dir = 's3://enuma-dw/',\n",
        "    region_name = 'us-west-2',\n",
        "    cursor_class=PandasCursor).cursor()"
      ],
      "metadata": {
        "id": "zuWVMC2BJ8g-"
      },
      "execution_count": null,
      "outputs": []
    },
    {
      "cell_type": "code",
      "source": [
        "from databricks import sql\n",
        "import pandas as pd\n",
        "\n",
        "conn = sql.connect(server_hostname = databricks_access['server_hostname'],\n",
        "                   http_path       = databricks_access['http_path'],\n",
        "                   access_token    = databricks_access['access_token'])"
      ],
      "metadata": {
        "id": "x2qf8fefn9Aq"
      },
      "execution_count": null,
      "outputs": []
    },
    {
      "cell_type": "code",
      "source": [
        "import pandas as pd"
      ],
      "metadata": {
        "id": "hWW3U2r8J_Qg"
      },
      "execution_count": null,
      "outputs": []
    },
    {
      "cell_type": "markdown",
      "source": [
        "## 토도수학"
      ],
      "metadata": {
        "id": "QPWDwdcl0njl"
      }
    },
    {
      "cell_type": "code",
      "source": [
        "query_tm_start_level_prcnt = \"\"\"\n",
        "SELECT\n",
        "  a.start_level\n",
        "  , a.cnt AS cnt_before\n",
        "  , b.cnt AS cnt_after\n",
        "  , a.prcnt AS prcnt_before\n",
        "  , b.prcnt AS prcent_after\n",
        "FROM(\n",
        "    SELECT\n",
        "        UPPER(start_level) AS start_level\n",
        "        , COUNT(DISTINCT userId) AS cnt\n",
        "        , ROUND(100.0*COUNT(DISTINCT userId) / SUM(COUNT(DISTINCT userId)) Over(), 1) AS prcnt\n",
        "    FROM(\n",
        "        SELECT\n",
        "            userId\n",
        "            , CAST(user_regdate AS DATE) AS user_regdate\n",
        "            , v_level AS start_level\n",
        "            , ROW_NUMBER() OVER (PARTITION BY userId, CAST(user_regdate AS DATE) ORDER BY regdate DESC) AS row_num\n",
        "        FROM bronze.todomath\n",
        "        WHERE 1=1\n",
        "            AND yyyymmdd BETWEEN '2022-05-01' AND '2022-06-15'\n",
        "            AND env = 'live'\n",
        "            AND device_localeCountry = 'CN'\n",
        "            AND user_regdate BETWEEN DATE('2022-05-01') AND DATE('2022-06-15')\n",
        "            AND v_event = 'tmLevelComplete'\n",
        "            AND CAST(user_regdate AS DATE) = SUBSTR(regdate, 1, 10)\n",
        "    )\n",
        "    WHERE row_num = 1 \n",
        "    GROUP BY 1\n",
        "  ) a\n",
        "  LEFT JOIN(\n",
        "      SELECT\n",
        "          UPPER(start_level) AS start_level\n",
        "          , COUNT(DISTINCT userId) AS cnt\n",
        "          , ROUND(100.0*COUNT(DISTINCT userId) / SUM(COUNT(DISTINCT userId)) Over(), 1) AS prcnt\n",
        "      FROM(\n",
        "          SELECT\n",
        "              userId\n",
        "              , CAST(user.user_regdate AS DATE) AS user_regdate\n",
        "              , data.level AS start_level\n",
        "              , ROW_NUMBER() OVER (PARTITION BY userId, CAST(user.user_regdate AS DATE) ORDER BY regdate DESC) AS row_num\n",
        "          FROM bronze.todomath_parsed\n",
        "          WHERE 1=1\n",
        "              AND yyyymmdd BETWEEN '2022-05-01' AND '2022-06-15'\n",
        "              AND env = 'live'\n",
        "              AND device.localeCountry = 'CN'\n",
        "              AND user.user_regdate BETWEEN DATE('2022-05-01') AND DATE('2022-06-15')\n",
        "              AND data.event = 'tmLevelComplete'\n",
        "              AND CAST(user.user_regdate AS DATE) = SUBSTR(regdate, 1, 10)\n",
        "      )\n",
        "      WHERE row_num = 1 \n",
        "      GROUP BY 1\n",
        "  ) b ON a.start_level = b.start_level\n",
        "  ORDER BY a.start_level\n",
        "\"\"\"\n",
        "\n",
        "df = pd.read_sql(query_tm_start_level_prcnt, conn)\n",
        "df\n",
        "\n",
        "# 참고한 table in databricks\n",
        "# befoer : bronze.todomath\n",
        "# after : bronze.todomath_parsed"
      ],
      "metadata": {
        "id": "_VjQfxrXn_s9",
        "outputId": "c2c6d529-1797-4665-d30e-0f2546cb7cd1",
        "colab": {
          "base_uri": "https://localhost:8080/",
          "height": 269
        }
      },
      "execution_count": null,
      "outputs": [
        {
          "output_type": "execute_result",
          "data": {
            "text/plain": [
              "  start_level  cnt_before  cnt_after  prcnt_before  prcent_after\n",
              "0           A       24333      22429          63.9          64.0\n",
              "1           B        5561       5088          14.6          14.5\n",
              "2           C        3831       3545          10.1          10.1\n",
              "3           D        1198       1089           3.1           3.1\n",
              "4           E         950        854           2.5           2.4\n",
              "5           F         802        736           2.1           2.1\n",
              "6           G        1422       1301           3.7           3.7"
            ],
            "text/html": [
              "\n",
              "  <div id=\"df-f22714fb-6de9-4871-95f7-5027083934c9\">\n",
              "    <div class=\"colab-df-container\">\n",
              "      <div>\n",
              "<style scoped>\n",
              "    .dataframe tbody tr th:only-of-type {\n",
              "        vertical-align: middle;\n",
              "    }\n",
              "\n",
              "    .dataframe tbody tr th {\n",
              "        vertical-align: top;\n",
              "    }\n",
              "\n",
              "    .dataframe thead th {\n",
              "        text-align: right;\n",
              "    }\n",
              "</style>\n",
              "<table border=\"1\" class=\"dataframe\">\n",
              "  <thead>\n",
              "    <tr style=\"text-align: right;\">\n",
              "      <th></th>\n",
              "      <th>start_level</th>\n",
              "      <th>cnt_before</th>\n",
              "      <th>cnt_after</th>\n",
              "      <th>prcnt_before</th>\n",
              "      <th>prcent_after</th>\n",
              "    </tr>\n",
              "  </thead>\n",
              "  <tbody>\n",
              "    <tr>\n",
              "      <th>0</th>\n",
              "      <td>A</td>\n",
              "      <td>24333</td>\n",
              "      <td>22429</td>\n",
              "      <td>63.9</td>\n",
              "      <td>64.0</td>\n",
              "    </tr>\n",
              "    <tr>\n",
              "      <th>1</th>\n",
              "      <td>B</td>\n",
              "      <td>5561</td>\n",
              "      <td>5088</td>\n",
              "      <td>14.6</td>\n",
              "      <td>14.5</td>\n",
              "    </tr>\n",
              "    <tr>\n",
              "      <th>2</th>\n",
              "      <td>C</td>\n",
              "      <td>3831</td>\n",
              "      <td>3545</td>\n",
              "      <td>10.1</td>\n",
              "      <td>10.1</td>\n",
              "    </tr>\n",
              "    <tr>\n",
              "      <th>3</th>\n",
              "      <td>D</td>\n",
              "      <td>1198</td>\n",
              "      <td>1089</td>\n",
              "      <td>3.1</td>\n",
              "      <td>3.1</td>\n",
              "    </tr>\n",
              "    <tr>\n",
              "      <th>4</th>\n",
              "      <td>E</td>\n",
              "      <td>950</td>\n",
              "      <td>854</td>\n",
              "      <td>2.5</td>\n",
              "      <td>2.4</td>\n",
              "    </tr>\n",
              "    <tr>\n",
              "      <th>5</th>\n",
              "      <td>F</td>\n",
              "      <td>802</td>\n",
              "      <td>736</td>\n",
              "      <td>2.1</td>\n",
              "      <td>2.1</td>\n",
              "    </tr>\n",
              "    <tr>\n",
              "      <th>6</th>\n",
              "      <td>G</td>\n",
              "      <td>1422</td>\n",
              "      <td>1301</td>\n",
              "      <td>3.7</td>\n",
              "      <td>3.7</td>\n",
              "    </tr>\n",
              "  </tbody>\n",
              "</table>\n",
              "</div>\n",
              "      <button class=\"colab-df-convert\" onclick=\"convertToInteractive('df-f22714fb-6de9-4871-95f7-5027083934c9')\"\n",
              "              title=\"Convert this dataframe to an interactive table.\"\n",
              "              style=\"display:none;\">\n",
              "        \n",
              "  <svg xmlns=\"http://www.w3.org/2000/svg\" height=\"24px\"viewBox=\"0 0 24 24\"\n",
              "       width=\"24px\">\n",
              "    <path d=\"M0 0h24v24H0V0z\" fill=\"none\"/>\n",
              "    <path d=\"M18.56 5.44l.94 2.06.94-2.06 2.06-.94-2.06-.94-.94-2.06-.94 2.06-2.06.94zm-11 1L8.5 8.5l.94-2.06 2.06-.94-2.06-.94L8.5 2.5l-.94 2.06-2.06.94zm10 10l.94 2.06.94-2.06 2.06-.94-2.06-.94-.94-2.06-.94 2.06-2.06.94z\"/><path d=\"M17.41 7.96l-1.37-1.37c-.4-.4-.92-.59-1.43-.59-.52 0-1.04.2-1.43.59L10.3 9.45l-7.72 7.72c-.78.78-.78 2.05 0 2.83L4 21.41c.39.39.9.59 1.41.59.51 0 1.02-.2 1.41-.59l7.78-7.78 2.81-2.81c.8-.78.8-2.07 0-2.86zM5.41 20L4 18.59l7.72-7.72 1.47 1.35L5.41 20z\"/>\n",
              "  </svg>\n",
              "      </button>\n",
              "      \n",
              "  <style>\n",
              "    .colab-df-container {\n",
              "      display:flex;\n",
              "      flex-wrap:wrap;\n",
              "      gap: 12px;\n",
              "    }\n",
              "\n",
              "    .colab-df-convert {\n",
              "      background-color: #E8F0FE;\n",
              "      border: none;\n",
              "      border-radius: 50%;\n",
              "      cursor: pointer;\n",
              "      display: none;\n",
              "      fill: #1967D2;\n",
              "      height: 32px;\n",
              "      padding: 0 0 0 0;\n",
              "      width: 32px;\n",
              "    }\n",
              "\n",
              "    .colab-df-convert:hover {\n",
              "      background-color: #E2EBFA;\n",
              "      box-shadow: 0px 1px 2px rgba(60, 64, 67, 0.3), 0px 1px 3px 1px rgba(60, 64, 67, 0.15);\n",
              "      fill: #174EA6;\n",
              "    }\n",
              "\n",
              "    [theme=dark] .colab-df-convert {\n",
              "      background-color: #3B4455;\n",
              "      fill: #D2E3FC;\n",
              "    }\n",
              "\n",
              "    [theme=dark] .colab-df-convert:hover {\n",
              "      background-color: #434B5C;\n",
              "      box-shadow: 0px 1px 3px 1px rgba(0, 0, 0, 0.15);\n",
              "      filter: drop-shadow(0px 1px 2px rgba(0, 0, 0, 0.3));\n",
              "      fill: #FFFFFF;\n",
              "    }\n",
              "  </style>\n",
              "\n",
              "      <script>\n",
              "        const buttonEl =\n",
              "          document.querySelector('#df-f22714fb-6de9-4871-95f7-5027083934c9 button.colab-df-convert');\n",
              "        buttonEl.style.display =\n",
              "          google.colab.kernel.accessAllowed ? 'block' : 'none';\n",
              "\n",
              "        async function convertToInteractive(key) {\n",
              "          const element = document.querySelector('#df-f22714fb-6de9-4871-95f7-5027083934c9');\n",
              "          const dataTable =\n",
              "            await google.colab.kernel.invokeFunction('convertToInteractive',\n",
              "                                                     [key], {});\n",
              "          if (!dataTable) return;\n",
              "\n",
              "          const docLinkHtml = 'Like what you see? Visit the ' +\n",
              "            '<a target=\"_blank\" href=https://colab.research.google.com/notebooks/data_table.ipynb>data table notebook</a>'\n",
              "            + ' to learn more about interactive tables.';\n",
              "          element.innerHTML = '';\n",
              "          dataTable['output_type'] = 'display_data';\n",
              "          await google.colab.output.renderOutput(dataTable, element);\n",
              "          const docLink = document.createElement('div');\n",
              "          docLink.innerHTML = docLinkHtml;\n",
              "          element.appendChild(docLink);\n",
              "        }\n",
              "      </script>\n",
              "    </div>\n",
              "  </div>\n",
              "  "
            ]
          },
          "metadata": {},
          "execution_count": 31
        }
      ]
    },
    {
      "cell_type": "code",
      "source": [],
      "metadata": {
        "id": "HyfWDjCNPx3m"
      },
      "execution_count": null,
      "outputs": []
    }
  ]
}